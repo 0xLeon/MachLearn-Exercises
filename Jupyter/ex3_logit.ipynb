{
 "cells": [
  {
   "cell_type": "code",
   "execution_count": 1,
   "metadata": {
    "collapsed": true
   },
   "outputs": [],
   "source": [
    "import os\n",
    "import numpy as np\n",
    "import pandas as pd\n"
   ]
  },
  {
   "cell_type": "code",
   "execution_count": 2,
   "metadata": {},
   "outputs": [
    {
     "data": {
      "text/plain": [
       "['.ipynb_checkpoints',\n",
       " 'adult.data.csv',\n",
       " 'adult.data.prepared.csv',\n",
       " 'adult.data.txt',\n",
       " 'adult.test.prepared.csv',\n",
       " 'adult.test.txt',\n",
       " 'Colnames.txt',\n",
       " 'DataCleaning.ipynb',\n",
       " 'ex01_group38_scheu_R.ipynb',\n",
       " 'ex2_marc.ipynb',\n",
       " 'ex3.R',\n",
       " 'ex3_logit.ipynb',\n",
       " 'MachLearnExercise01.ipynb',\n",
       " 'MachLearnExercise02.ipynb',\n",
       " 'MachLearnExercises03.ipynb']"
      ]
     },
     "execution_count": 2,
     "metadata": {},
     "output_type": "execute_result"
    }
   ],
   "source": [
    "os.listdir()"
   ]
  },
  {
   "cell_type": "code",
   "execution_count": 3,
   "metadata": {},
   "outputs": [
    {
     "data": {
      "text/html": [
       "<div>\n",
       "<style>\n",
       "    .dataframe thead tr:only-child th {\n",
       "        text-align: right;\n",
       "    }\n",
       "\n",
       "    .dataframe thead th {\n",
       "        text-align: left;\n",
       "    }\n",
       "\n",
       "    .dataframe tbody tr th {\n",
       "        vertical-align: top;\n",
       "    }\n",
       "</style>\n",
       "<table border=\"1\" class=\"dataframe\">\n",
       "  <thead>\n",
       "    <tr style=\"text-align: right;\">\n",
       "      <th></th>\n",
       "      <th>0</th>\n",
       "      <th>1</th>\n",
       "      <th>2</th>\n",
       "      <th>3</th>\n",
       "      <th>4</th>\n",
       "      <th>5</th>\n",
       "      <th>6</th>\n",
       "      <th>7</th>\n",
       "      <th>8</th>\n",
       "      <th>9</th>\n",
       "      <th>10</th>\n",
       "      <th>11</th>\n",
       "      <th>12</th>\n",
       "    </tr>\n",
       "  </thead>\n",
       "  <tbody>\n",
       "    <tr>\n",
       "      <th>0</th>\n",
       "      <td>age</td>\n",
       "      <td>fnlwgt</td>\n",
       "      <td>education-num</td>\n",
       "      <td>capital-gain</td>\n",
       "      <td>capital-loss</td>\n",
       "      <td>hours-per-week</td>\n",
       "      <td>higher_educ</td>\n",
       "      <td>lower_educ</td>\n",
       "      <td>is_male</td>\n",
       "      <td>gov_emp</td>\n",
       "      <td>private</td>\n",
       "      <td>self_emp</td>\n",
       "      <td>high_income</td>\n",
       "    </tr>\n",
       "    <tr>\n",
       "      <th>1</th>\n",
       "      <td>39</td>\n",
       "      <td>77516</td>\n",
       "      <td>13</td>\n",
       "      <td>2174</td>\n",
       "      <td>0</td>\n",
       "      <td>40</td>\n",
       "      <td>1</td>\n",
       "      <td>0</td>\n",
       "      <td>1</td>\n",
       "      <td>1</td>\n",
       "      <td>0</td>\n",
       "      <td>0</td>\n",
       "      <td>0</td>\n",
       "    </tr>\n",
       "    <tr>\n",
       "      <th>2</th>\n",
       "      <td>50</td>\n",
       "      <td>83311</td>\n",
       "      <td>13</td>\n",
       "      <td>0</td>\n",
       "      <td>0</td>\n",
       "      <td>13</td>\n",
       "      <td>1</td>\n",
       "      <td>0</td>\n",
       "      <td>1</td>\n",
       "      <td>0</td>\n",
       "      <td>0</td>\n",
       "      <td>1</td>\n",
       "      <td>0</td>\n",
       "    </tr>\n",
       "    <tr>\n",
       "      <th>3</th>\n",
       "      <td>38</td>\n",
       "      <td>215646</td>\n",
       "      <td>9</td>\n",
       "      <td>0</td>\n",
       "      <td>0</td>\n",
       "      <td>40</td>\n",
       "      <td>0</td>\n",
       "      <td>0</td>\n",
       "      <td>1</td>\n",
       "      <td>0</td>\n",
       "      <td>1</td>\n",
       "      <td>0</td>\n",
       "      <td>0</td>\n",
       "    </tr>\n",
       "    <tr>\n",
       "      <th>4</th>\n",
       "      <td>53</td>\n",
       "      <td>234721</td>\n",
       "      <td>7</td>\n",
       "      <td>0</td>\n",
       "      <td>0</td>\n",
       "      <td>40</td>\n",
       "      <td>0</td>\n",
       "      <td>1</td>\n",
       "      <td>1</td>\n",
       "      <td>0</td>\n",
       "      <td>1</td>\n",
       "      <td>0</td>\n",
       "      <td>0</td>\n",
       "    </tr>\n",
       "    <tr>\n",
       "      <th>5</th>\n",
       "      <td>28</td>\n",
       "      <td>338409</td>\n",
       "      <td>13</td>\n",
       "      <td>0</td>\n",
       "      <td>0</td>\n",
       "      <td>40</td>\n",
       "      <td>1</td>\n",
       "      <td>0</td>\n",
       "      <td>0</td>\n",
       "      <td>0</td>\n",
       "      <td>1</td>\n",
       "      <td>0</td>\n",
       "      <td>0</td>\n",
       "    </tr>\n",
       "    <tr>\n",
       "      <th>6</th>\n",
       "      <td>37</td>\n",
       "      <td>284582</td>\n",
       "      <td>14</td>\n",
       "      <td>0</td>\n",
       "      <td>0</td>\n",
       "      <td>40</td>\n",
       "      <td>1</td>\n",
       "      <td>0</td>\n",
       "      <td>0</td>\n",
       "      <td>0</td>\n",
       "      <td>1</td>\n",
       "      <td>0</td>\n",
       "      <td>0</td>\n",
       "    </tr>\n",
       "    <tr>\n",
       "      <th>7</th>\n",
       "      <td>49</td>\n",
       "      <td>160187</td>\n",
       "      <td>5</td>\n",
       "      <td>0</td>\n",
       "      <td>0</td>\n",
       "      <td>16</td>\n",
       "      <td>0</td>\n",
       "      <td>1</td>\n",
       "      <td>0</td>\n",
       "      <td>0</td>\n",
       "      <td>1</td>\n",
       "      <td>0</td>\n",
       "      <td>0</td>\n",
       "    </tr>\n",
       "    <tr>\n",
       "      <th>8</th>\n",
       "      <td>52</td>\n",
       "      <td>209642</td>\n",
       "      <td>9</td>\n",
       "      <td>0</td>\n",
       "      <td>0</td>\n",
       "      <td>45</td>\n",
       "      <td>0</td>\n",
       "      <td>0</td>\n",
       "      <td>1</td>\n",
       "      <td>0</td>\n",
       "      <td>0</td>\n",
       "      <td>1</td>\n",
       "      <td>1</td>\n",
       "    </tr>\n",
       "    <tr>\n",
       "      <th>9</th>\n",
       "      <td>31</td>\n",
       "      <td>45781</td>\n",
       "      <td>14</td>\n",
       "      <td>14084</td>\n",
       "      <td>0</td>\n",
       "      <td>50</td>\n",
       "      <td>1</td>\n",
       "      <td>0</td>\n",
       "      <td>0</td>\n",
       "      <td>0</td>\n",
       "      <td>1</td>\n",
       "      <td>0</td>\n",
       "      <td>1</td>\n",
       "    </tr>\n",
       "  </tbody>\n",
       "</table>\n",
       "</div>"
      ],
      "text/plain": [
       "    0       1              2             3             4               5   \\\n",
       "0  age  fnlwgt  education-num  capital-gain  capital-loss  hours-per-week   \n",
       "1   39   77516             13          2174             0              40   \n",
       "2   50   83311             13             0             0              13   \n",
       "3   38  215646              9             0             0              40   \n",
       "4   53  234721              7             0             0              40   \n",
       "5   28  338409             13             0             0              40   \n",
       "6   37  284582             14             0             0              40   \n",
       "7   49  160187              5             0             0              16   \n",
       "8   52  209642              9             0             0              45   \n",
       "9   31   45781             14         14084             0              50   \n",
       "\n",
       "            6           7        8        9        10        11           12  \n",
       "0  higher_educ  lower_educ  is_male  gov_emp  private  self_emp  high_income  \n",
       "1            1           0        1        1        0         0            0  \n",
       "2            1           0        1        0        0         1            0  \n",
       "3            0           0        1        0        1         0            0  \n",
       "4            0           1        1        0        1         0            0  \n",
       "5            1           0        0        0        1         0            0  \n",
       "6            1           0        0        0        1         0            0  \n",
       "7            0           1        0        0        1         0            0  \n",
       "8            0           0        1        0        0         1            1  \n",
       "9            1           0        0        0        1         0            1  "
      ]
     },
     "execution_count": 3,
     "metadata": {},
     "output_type": "execute_result"
    }
   ],
   "source": [
    "train = pd.read_csv('adult.data.prepared.csv', header = None)\n",
    "train.head(10)"
   ]
  },
  {
   "cell_type": "code",
   "execution_count": 5,
   "metadata": {},
   "outputs": [
    {
     "data": {
      "text/plain": [
       "array([[0],\n",
       "       [0],\n",
       "       [0],\n",
       "       ..., \n",
       "       [0],\n",
       "       [0],\n",
       "       [1]])"
      ]
     },
     "execution_count": 5,
     "metadata": {},
     "output_type": "execute_result"
    }
   ],
   "source": [
    "X_train = np.array(train[1:,0:12], dtype = 'float64')\n",
    "X_train = np.pad(X_train,1,'constant',constant_values=(1))[1:X_train.shape[0]+1,0:X_train.shape[1]+1]\n",
    "Y_train = np.array(train[1:,12:], dtype = 'int')\n",
    "Y_train"
   ]
  },
  {
   "cell_type": "markdown",
   "metadata": {},
   "source": [
    "For the start of the algorithm set abitrarily all tetas to 1"
   ]
  },
  {
   "cell_type": "code",
   "execution_count": 14,
   "metadata": {},
   "outputs": [],
   "source": [
    "teta = np.ones([1,X_train.shape[1]], dtype = 'float64')\n",
    "xi = X_train[0,:]\n",
    "xi = X_train[0:2,:]"
   ]
  },
  {
   "cell_type": "markdown",
   "metadata": {},
   "source": [
    "The formular for <b>h_teta(x) = exp(transpose(teta).dot(X))/ 1 - exp(transpose(teta).dot(X))</b><br>\n",
    "This produces overflow for high transpose(teta).dot(X) therefore we transform the formular to <br>\n",
    "<b>h_teta = 0.2 + 0.5 * tanh(transpose(teta).dot(X) / 2)</b><br>\n",
    "https://en.wikipedia.org/wiki/Logistic_function\n",
    "<br> <b>to do</b> dimensions of teta are wrongly defined"
   ]
  },
  {
   "cell_type": "code",
   "execution_count": 34,
   "metadata": {},
   "outputs": [],
   "source": [
    "def get_h_teta(teta, xi ):\n",
    "    h_teta = np.transpose(0.5 + 0.5 * np.tanh((teta.dot(np.transpose(xi)) / 2)))\n",
    "    return(h_teta)"
   ]
  },
  {
   "cell_type": "code",
   "execution_count": 43,
   "metadata": {},
   "outputs": [
    {
     "data": {
      "text/plain": [
       "(30725, 1)"
      ]
     },
     "execution_count": 43,
     "metadata": {},
     "output_type": "execute_result"
    }
   ],
   "source": [
    "h_teta = get_h_teta(teta, X_train)\n",
    "h_teta.shape\n",
    "#Y_train.shape"
   ]
  },
  {
   "cell_type": "code",
   "execution_count": 44,
   "metadata": {},
   "outputs": [
    {
     "name": "stdout",
     "output_type": "stream",
     "text": [
      "[[ -2.30750000e+04]\n",
      " [ -8.44714000e+05]\n",
      " [ -4.39417150e+09]\n",
      " [ -2.22347000e+05]\n",
      " [ -3.41534700e+06]\n",
      " [ -1.23479600e+06]\n",
      " [ -9.08430000e+05]\n",
      " [ -3.84300000e+03]\n",
      " [ -3.59000000e+03]\n",
      " [ -1.42700000e+04]\n",
      " [ -3.01000000e+03]\n",
      " [ -1.77330000e+04]\n",
      " [ -2.31100000e+03]]\n"
     ]
    },
    {
     "data": {
      "text/plain": [
       "(13, 1)"
      ]
     },
     "execution_count": 44,
     "metadata": {},
     "output_type": "execute_result"
    }
   ],
   "source": [
    "deriva = np.transpose(X_train).dot(Y_train - h_teta)\n",
    "print(deriva)\n",
    "deriva.shape"
   ]
  },
  {
   "cell_type": "code",
   "execution_count": 52,
   "metadata": {},
   "outputs": [
    {
     "name": "stdout",
     "output_type": "stream",
     "text": [
      "(1, 13)\n",
      "(1, 13)\n"
     ]
    },
    {
     "data": {
      "text/plain": [
       "array([[ -2.29750000e+02,  -8.44614000e+03,  -4.39417140e+07,\n",
       "         -2.22247000e+03,  -3.41524700e+04,  -1.23469600e+04,\n",
       "         -9.08330000e+03,  -3.74300000e+01,  -3.49000000e+01,\n",
       "         -1.41700000e+02,  -2.91000000e+01,  -1.76330000e+02,\n",
       "         -2.21100000e+01]])"
      ]
     },
     "execution_count": 52,
     "metadata": {},
     "output_type": "execute_result"
    }
   ],
   "source": [
    "const = 0.01\n",
    "teta_neu = teta + const * np.transpose(deriva)\n",
    "print(teta.shape)\n",
    "print(teta_neu.shape)\n",
    "teta_neu\n"
   ]
  }
 ],
 "metadata": {
  "kernelspec": {
   "display_name": "Python 3",
   "language": "python",
   "name": "python3"
  },
  "language_info": {
   "codemirror_mode": {
    "name": "ipython",
    "version": 3
   },
   "file_extension": ".py",
   "mimetype": "text/x-python",
   "name": "python",
   "nbconvert_exporter": "python",
   "pygments_lexer": "ipython3",
   "version": "3.6.2"
  }
 },
 "nbformat": 4,
 "nbformat_minor": 2
}
