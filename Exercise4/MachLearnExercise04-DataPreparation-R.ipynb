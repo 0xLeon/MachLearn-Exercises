{
 "cells": [
  {
   "cell_type": "markdown",
   "metadata": {},
   "source": [
    "<h2>Data Preparation</h2>"
   ]
  },
  {
   "cell_type": "code",
   "execution_count": 2,
   "metadata": {},
   "outputs": [
    {
     "name": "stderr",
     "output_type": "stream",
     "text": [
      "Loading required package: lattice\n",
      "Loading required package: ggplot2\n"
     ]
    }
   ],
   "source": [
    "library(stringr)\n",
    "library(caret)"
   ]
  },
  {
   "cell_type": "markdown",
   "metadata": {},
   "source": [
    "<h3> Load data and columnames </h3>"
   ]
  },
  {
   "cell_type": "code",
   "execution_count": 3,
   "metadata": {
    "collapsed": true
   },
   "outputs": [],
   "source": [
    "df = read.csv('spambase.data.txt', header = F)\n",
    "names = readLines(\"spambase.names.txt\")\n",
    "names = names[34:length(names)]\n",
    "boo = str_split(names, \":\")\n",
    "names = sapply(boo, function(x) x[1] )\n",
    "names = c(names, 'spam')\n",
    "names(df) = names"
   ]
  },
  {
   "cell_type": "markdown",
   "metadata": {},
   "source": [
    "<ul>\n",
    "<li>\n",
    "Scale non percentage variables, here z transformation is used, does it more more sense to normalize them on a [0,100] scale like the other variables?</li>\n",
    "<li>Divide Data into Traing and Testset (70:30)</li>\n",
    "<li>wirte csv for further data analysis</li>\n",
    "</ul>"
   ]
  },
  {
   "cell_type": "code",
   "execution_count": 4,
   "metadata": {
    "collapsed": true
   },
   "outputs": [],
   "source": [
    "df$capital_run_length_average = as.numeric(scale(df$capital_run_length_average))\n",
    "df$capital_run_length_longest = as.numeric(scale(df$capital_run_length_longest))\n",
    "df$capital_run_length_total = as.numeric(scale(df$capital_run_length_total))\n",
    "\n",
    "set.seed(420)\n",
    "inTrainingSet <- createDataPartition(df$spam, p = 0.7, list=FALSE)\n",
    "\n",
    "train = df[inTrainingSet,]\n",
    "test = df[-inTrainingSet,]\n",
    "\n",
    "write.csv(train, \"spam_base_train.csv\", row.names = F)\n",
    "write.csv(test, \"spam_base_test.csv\", row.names = F)"
   ]
  }
 ],
 "metadata": {
  "kernelspec": {
   "display_name": "R",
   "language": "R",
   "name": "ir"
  },
  "language_info": {
   "codemirror_mode": "r",
   "file_extension": ".r",
   "mimetype": "text/x-r-source",
   "name": "R",
   "pygments_lexer": "r",
   "version": "3.4.1"
  }
 },
 "nbformat": 4,
 "nbformat_minor": 2
}
