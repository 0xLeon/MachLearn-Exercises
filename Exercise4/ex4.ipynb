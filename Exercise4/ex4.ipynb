{
 "cells": [
  {
   "cell_type": "code",
   "execution_count": 1,
   "metadata": {},
   "outputs": [],
   "source": [
    "import os\n",
    "import matplotlib.pyplot as plt\n",
    "import numpy as np\n",
    "import pandas as pd"
   ]
  },
  {
   "cell_type": "code",
   "execution_count": 2,
   "metadata": {},
   "outputs": [
    {
     "data": {
      "text/plain": [
       "['.ipynb_checkpoints',\n",
       " 'ex4.ipynb',\n",
       " 'Ex4_data_preparation-R.ipynb',\n",
       " 'exercise_04.pdf',\n",
       " 'spambase.data.txt',\n",
       " 'spambase.DOCUMENTATION.txt',\n",
       " 'spambase.names.txt',\n",
       " 'spam_base_test.csv',\n",
       " 'spam_base_train.csv']"
      ]
     },
     "execution_count": 2,
     "metadata": {},
     "output_type": "execute_result"
    }
   ],
   "source": [
    "os.listdir()"
   ]
  },
  {
   "cell_type": "code",
   "execution_count": 3,
   "metadata": {},
   "outputs": [],
   "source": [
    "dataframe = pd.read_csv('spam_base_train.csv')"
   ]
  },
  {
   "cell_type": "code",
   "execution_count": 4,
   "metadata": {},
   "outputs": [],
   "source": [
    "def load_data(filename):\n",
    "    # Split dataframe into X and Y numpy arrays, add 1 padding to X\n",
    "    dataframe = pd.read_csv(filename)\n",
    "    X = np.array(dataframe, dtype = 'float64')[:,:-1]\n",
    "    X = np.pad(X,1,'constant',constant_values=(1))[1:X.shape[0]+1,0:X.shape[1]+1]\n",
    "    Y = np.array(dataframe, dtype = 'int')[:,-1:]\n",
    "    \n",
    "    return (X, Y)"
   ]
  },
  {
   "cell_type": "code",
   "execution_count": 5,
   "metadata": {},
   "outputs": [
    {
     "data": {
      "text/plain": [
       "(3221, 58)"
      ]
     },
     "execution_count": 5,
     "metadata": {},
     "output_type": "execute_result"
    }
   ],
   "source": [
    "X_train, Y_train = load_data('spam_base_train.csv')\n",
    "X_train.shape"
   ]
  },
  {
   "cell_type": "markdown",
   "metadata": {},
   "source": [
    "<h2>Logit model from exercise 3</h2>"
   ]
  },
  {
   "cell_type": "code",
   "execution_count": 6,
   "metadata": {},
   "outputs": [],
   "source": [
    "def get_likelihood(cross_product):\n",
    "    return 0.5 + 0.5 * np.tanh(cross_product / 2)"
   ]
  },
  {
   "cell_type": "code",
   "execution_count": 7,
   "metadata": {},
   "outputs": [],
   "source": [
    "def train_logit(X, Y, acc_const = 0.00001):\n",
    "    const = 0.00001\n",
    "    teta = np.zeros([X.shape[1], 1], dtype = 'float64')\n",
    "\n",
    "    likelihood_old = 1.\n",
    "    converge_idx = 1.\n",
    "\n",
    "    while converge_idx > 0.00001:\n",
    "        cross_product = X.dot(teta)\n",
    "        hteta = np.apply_along_axis(get_likelihood, 0,cross_product)\n",
    "        likelihood = np.transpose(Y).dot(cross_product) - sum(np.ones([cross_product.shape[0],1]) -  np.exp(cross_product))\n",
    "        converge_idx = (likelihood_old - likelihood) / likelihood_old\n",
    "        deriva = np.transpose(X).dot(Y - hteta)\n",
    "        \n",
    "        if converge_idx <= 0.0001:\n",
    "            break\n",
    "        \n",
    "        teta = teta + const * deriva\n",
    "\n",
    "    return teta"
   ]
  },
  {
   "cell_type": "code",
   "execution_count": 9,
   "metadata": {},
   "outputs": [],
   "source": [
    "def logit_predict(x, coef):\n",
    "    cross_product = x.dot(coef)\n",
    "    return get_likelihood(cross_product)"
   ]
  },
  {
   "cell_type": "markdown",
   "metadata": {},
   "source": [
    "<h2> Apply model & Report F Measure</h2>"
   ]
  },
  {
   "cell_type": "code",
   "execution_count": 10,
   "metadata": {},
   "outputs": [
    {
     "data": {
      "text/plain": [
       "array([[-0.02805595,  0.00205158, -0.00914315,  0.00573615,  0.00692994,\n",
       "         0.01310739,  0.00573449,  0.01469252,  0.00818826,  0.00636297,\n",
       "         0.00328708,  0.00435962, -0.01548288,  0.00197417,  0.00035848,\n",
       "         0.00553423,  0.02280241,  0.01124735,  0.00971271,  0.01531798,\n",
       "         0.01103123,  0.03686321,  0.00787759,  0.01297281,  0.01057831,\n",
       "        -0.06898876, -0.03335918, -0.07706435, -0.01466624, -0.01214646,\n",
       "        -0.01290086, -0.00872363, -0.00583337, -0.01216267, -0.00581915,\n",
       "        -0.01379408, -0.01024531, -0.01404293, -0.00128035, -0.00997825,\n",
       "        -0.00480489, -0.00620655, -0.01791639, -0.00545112, -0.01150035,\n",
       "        -0.02655583, -0.02330925, -0.00060838, -0.00433375, -0.00374318,\n",
       "        -0.00758666, -0.00152014,  0.01905912,  0.00816083,  0.00258316,\n",
       "         0.01202989,  0.0267935 ,  0.0332524 ]])"
      ]
     },
     "execution_count": 10,
     "metadata": {},
     "output_type": "execute_result"
    }
   ],
   "source": [
    "coef = train_logit(X_train, Y_train)\n",
    "np.transpose(coef)"
   ]
  },
  {
   "cell_type": "code",
   "execution_count": 11,
   "metadata": {},
   "outputs": [
    {
     "data": {
      "text/plain": [
       "(1380, 58)"
      ]
     },
     "execution_count": 11,
     "metadata": {},
     "output_type": "execute_result"
    }
   ],
   "source": [
    "X_test, Y_test = load_data('spam_base_test.csv')\n",
    "X_test.shape"
   ]
  },
  {
   "cell_type": "code",
   "execution_count": 12,
   "metadata": {},
   "outputs": [
    {
     "data": {
      "text/plain": [
       "array([ 0.85724638])"
      ]
     },
     "execution_count": 12,
     "metadata": {},
     "output_type": "execute_result"
    }
   ],
   "source": [
    "Y_hat = np.array([logit_predict(X_test[idx,:], coef) for idx in range(0,X_test.shape[0])])\n",
    "Y_hat = Y_hat.round()\n",
    "acc = sum(Y_hat == Y_test) / Y_test.shape[0]\n",
    "acc"
   ]
  },
  {
   "cell_type": "code",
   "execution_count": 13,
   "metadata": {},
   "outputs": [],
   "source": [
    "def F_score(Y, Y_hat, beta):\n",
    "    true_positives = sum(np.logical_and(Y == True , Y_hat == True))\n",
    "    false_positives = sum(np.logical_and(Y == False , Y_hat == True))\n",
    "    false_negatives = sum(np.logical_and(Y == True , Y_hat == False))\n",
    "    \n",
    "    precision =  true_positives / (true_positives + false_positives)\n",
    "    recall = true_positives / (true_positives + false_negatives)\n",
    "    F = (1 + beta**2) * precision * recall / (beta**2 * precision + recall)\n",
    "    \n",
    "    return F[0]"
   ]
  },
  {
   "cell_type": "code",
   "execution_count": 14,
   "metadata": {},
   "outputs": [
    {
     "data": {
      "text/plain": [
       "array([[ 0.5       ,  0.80333333],\n",
       "       [ 0.55      ,  0.80614944],\n",
       "       [ 0.6       ,  0.80900429],\n",
       "       [ 0.65      ,  0.81186577],\n",
       "       [ 0.7       ,  0.81470642],\n",
       "       [ 0.75      ,  0.81750339],\n",
       "       [ 0.8       ,  0.82023824],\n",
       "       [ 0.85      ,  0.82289653],\n",
       "       [ 0.9       ,  0.82546741],\n",
       "       [ 0.95      ,  0.82794315],\n",
       "       [ 1.        ,  0.83031869]])"
      ]
     },
     "execution_count": 14,
     "metadata": {},
     "output_type": "execute_result"
    }
   ],
   "source": [
    "F_beta = np.array([[beta , F_score(Y_test, Y_hat, beta)] for beta in np.arange(0.5, 1.01, 0.05)])\n",
    "F_beta"
   ]
  },
  {
   "cell_type": "code",
   "execution_count": 15,
   "metadata": {},
   "outputs": [
    {
     "data": {
      "image/png": "[encoded data removed]",
      "text/plain": [
       "<matplotlib.figure.Figure at 0xb384bf0>"
      ]
     },
     "metadata": {},
     "output_type": "display_data"
    }
   ],
   "source": [
    "plt.plot(F_beta[:,0], F_beta[:,1])\n",
    "plt.xlabel('F measure')\n",
    "plt.ylabel('beta')\n",
    "plt.show()"
   ]
  },
  {
   "cell_type": "markdown",
   "metadata": {},
   "source": [
    "# Logistic Ridge Regression"
   ]
  },
  {
   "cell_type": "code",
   "execution_count": 16,
   "metadata": {},
   "outputs": [],
   "source": [
    "def train_ridge_logit(X, Y, l):\n",
    "    const = 0.00001\n",
    "    theta = np.zeros([X.shape[1],1], dtype = 'float64')\n",
    "\n",
    "    likelihood_old = 1.\n",
    "    converge_idx = 1.\n",
    "\n",
    "    while converge_idx > 0.00001:\n",
    "\n",
    "        cross_product = X.dot(theta)\n",
    "        htheta = np.apply_along_axis(get_likelihood, 0,cross_product)\n",
    "        delta = l * np.sum(np.square(theta))\n",
    "        likelihood = np.transpose(Y).dot(cross_product) - sum(np.ones([cross_product.shape[0],1]) - np.exp(cross_product)) - delta\n",
    "        converge_idx = (likelihood_old - likelihood) / likelihood_old\n",
    "        deriva = np.transpose(X).dot(Y - htheta)\n",
    "        \n",
    "        if converge_idx <= 0.0001:\n",
    "            break\n",
    "        \n",
    "        theta = theta + const * deriva\n",
    "\n",
    "    return (theta, delta)"
   ]
  },
  {
   "cell_type": "markdown",
   "metadata": {},
   "source": [
    "For the logistic ridge regression we introduce a new parameter `l`, which is usually denoted as lambda. This controls the penality added on top of the likelihood. The penality itself is the squared euclidean norm of the theta vector. Because the euclidian norm is a square root itself, we transformed the formula for better numerical stability."
   ]
  },
  {
   "cell_type": "code",
   "execution_count": 17,
   "metadata": {},
   "outputs": [
    {
     "data": {
      "text/plain": [
       "array([[-0.02805595,  0.00205158, -0.00914315,  0.00573615,  0.00692994,\n",
       "         0.01310739,  0.00573449,  0.01469252,  0.00818826,  0.00636297,\n",
       "         0.00328708,  0.00435962, -0.01548288,  0.00197417,  0.00035848,\n",
       "         0.00553423,  0.02280241,  0.01124735,  0.00971271,  0.01531798,\n",
       "         0.01103123,  0.03686321,  0.00787759,  0.01297281,  0.01057831,\n",
       "        -0.06898876, -0.03335918, -0.07706435, -0.01466624, -0.01214646,\n",
       "        -0.01290086, -0.00872363, -0.00583337, -0.01216267, -0.00581915,\n",
       "        -0.01379408, -0.01024531, -0.01404293, -0.00128035, -0.00997825,\n",
       "        -0.00480489, -0.00620655, -0.01791639, -0.00545112, -0.01150035,\n",
       "        -0.02655583, -0.02330925, -0.00060838, -0.00433375, -0.00374318,\n",
       "        -0.00758666, -0.00152014,  0.01905912,  0.00816083,  0.00258316,\n",
       "         0.01202989,  0.0267935 ,  0.0332524 ]])"
      ]
     },
     "execution_count": 17,
     "metadata": {},
     "output_type": "execute_result"
    }
   ],
   "source": [
    "coefRidge = train_ridge_logit(X_train, Y_train, 5)\n",
    "np.transpose(coefRidge[0])"
   ]
  },
  {
   "cell_type": "markdown",
   "metadata": {},
   "source": [
    "Coefficients for a lambda of 5"
   ]
  },
  {
   "cell_type": "code",
   "execution_count": 18,
   "metadata": {},
   "outputs": [],
   "source": [
    "def k_fold(X_train, i, k):\n",
    "    if i >= k:\n",
    "        raise ValueError('invalid value for i')\n",
    "    \n",
    "    chunk = int(X_train.shape[0] / k)\n",
    "    remain = X_train.shape[0] % k\n",
    "    \n",
    "    start = int(chunk * i)\n",
    "    stop = int(start + chunk)\n",
    "    \n",
    "    if (i + 1) == k:\n",
    "        stop = int(stop + remain)\n",
    "    \n",
    "    return (X_train[start:stop], np.append(X_train[0:start], X_train[stop:], axis=0))"
   ]
  },
  {
   "cell_type": "markdown",
   "metadata": {},
   "source": [
    "The inner k-folding function calculates chunk sizes based on the k splits and the given dataset size. It then returns the desired chunk denoted by `i` and merges the remaining data points a second set. In cross validation, the chunk is used for validation while the remainder is used for training."
   ]
  },
  {
   "cell_type": "code",
   "execution_count": 19,
   "metadata": {},
   "outputs": [],
   "source": [
    "def cross_ridge_logit(X_train, Y_train, X_test, Y_test):\n",
    "    deltas = []\n",
    "    f_scores = []\n",
    "    \n",
    "    for l in np.arange(1, 500, 10):\n",
    "        coefSum = np.zeros([X_train.shape[1], 1])\n",
    "        deltaSum = 0\n",
    "        \n",
    "        for i in range(4, -1, -1):\n",
    "            X_validation, X_train_local = k_fold(X_train, i, 5)\n",
    "            Y_validation, Y_train_local = k_fold(Y_train, i, 5)\n",
    "            \n",
    "            coefRidge, delta = train_ridge_logit(X_train_local, Y_train_local, l)\n",
    "            coefSum = coefSum + coefRidge\n",
    "            deltaSum = deltaSum + delta\n",
    "        \n",
    "        coef = coefSum / 5\n",
    "        Y_hat = np.array([logit_predict(X_test[idx, :], coef) for idx in range(0, X_test.shape[0])]).round()\n",
    "        \n",
    "        deltas.append([l, deltaSum / 5])\n",
    "        f_scores.append([l, F_score(Y_test, Y_hat, 0.5)])\n",
    "    \n",
    "    return (coef, deltas, f_scores)"
   ]
  },
  {
   "cell_type": "markdown",
   "metadata": {},
   "source": [
    "Using `k_fold()` this the crossvalidating implementation of thelogistic ridge regression iterates over a range of possible lambda values. For each lamba, a 5-fold cross validation is executed by calculating the coefficients for each of the 5 combinations of the chunk and remainder out of the train dataset. We let lambda range from 1 to 100."
   ]
  },
  {
   "cell_type": "code",
   "execution_count": 20,
   "metadata": {
    "scrolled": false
   },
   "outputs": [],
   "source": [
    "out = cross_ridge_logit(X_train, Y_train, X_test, Y_test)"
   ]
  },
  {
   "cell_type": "markdown",
   "metadata": {},
   "source": [
    "We now calculate the 5-fold cross validated logistic ridge regression and plot the parameters, using a F Score with beta of 0.5."
   ]
  },
  {
   "cell_type": "code",
   "execution_count": 23,
   "metadata": {},
   "outputs": [
    {
     "data": {
      "image/png": "[encoded data removed]",
      "text/plain": [
       "<matplotlib.figure.Figure at 0xb4510f0>"
      ]
     },
     "metadata": {},
     "output_type": "display_data"
    }
   ],
   "source": [
    "plt.figure(1, figsize=(20, 5))\n",
    "\n",
    "plt.subplot2grid((1, 3), (0, 0))\n",
    "plt.scatter(\n",
    "    np.array(out[1]).T[0],\n",
    "    np.array(out[1]).T[1],\n",
    ")\n",
    "plt.xlabel('lambda')\n",
    "plt.ylabel('delta')\n",
    "\n",
    "plt.subplot2grid((1, 3), (0, 1))\n",
    "plt.scatter(\n",
    "    np.array(out[2]).T[0],\n",
    "    np.array(out[2]).T[1],\n",
    ")\n",
    "plt.xlabel('lambda')\n",
    "plt.ylabel('F Score')\n",
    "\n",
    "plt.subplot2grid((1, 3), (0, 2))\n",
    "plt.scatter(\n",
    "    np.array(out[1]).T[1],\n",
    "    np.array(out[2]).T[1],\n",
    ")\n",
    "plt.xlabel('delta')\n",
    "plt.ylabel('F Score')\n",
    "\n",
    "plt.show()"
   ]
  }
 ],
 "metadata": {
  "kernelspec": {
   "display_name": "Python 3",
   "language": "python",
   "name": "python3"
  },
  "language_info": {
   "codemirror_mode": {
    "name": "ipython",
    "version": 3
   },
   "file_extension": ".py",
   "mimetype": "text/x-python",
   "name": "python",
   "nbconvert_exporter": "python",
   "pygments_lexer": "ipython3",
   "version": "3.6.2"
  }
 },
 "nbformat": 4,
 "nbformat_minor": 2
}
